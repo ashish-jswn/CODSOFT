{
 "cells": [
  {
   "cell_type": "code",
   "execution_count": 1,
   "metadata": {},
   "outputs": [
    {
     "name": "stdout",
     "output_type": "stream",
     "text": [
      "RMSE: 0.8751\n"
     ]
    },
    {
     "data": {
      "text/plain": [
       "0.8750562358611308"
      ]
     },
     "execution_count": 1,
     "metadata": {},
     "output_type": "execute_result"
    }
   ],
   "source": [
    "import pandas as pd\n",
    "from surprise import Dataset, Reader, SVD\n",
    "from surprise.model_selection import train_test_split\n",
    "import pickle\n",
    "\n",
    "# Load and preprocess data\n",
    "data_path = '../data/ml-latest-small/ratings.csv'\n",
    "item_path = '../data/ml-latest-small/movies.csv'\n",
    "\n",
    "ratings = pd.read_csv(data_path)\n",
    "movies = pd.read_csv(item_path, usecols=['movieId', 'title'])\n",
    "\n",
    "# The 'ratings' dataset already has the columns 'userId', 'movieId', 'rating', 'timestamp'\n",
    "# We will drop the 'timestamp' column\n",
    "ratings = ratings.drop('timestamp', axis=1)\n",
    "\n",
    "# Prepare data for Surprise\n",
    "reader = Reader(rating_scale=(0.5, 5.0))  # MovieLens ratings are between 0.5 and 5.0\n",
    "data = Dataset.load_from_df(ratings[['userId', 'movieId', 'rating']], reader)\n",
    "\n",
    "# Split the data into train and test sets\n",
    "trainset, testset = train_test_split(data, test_size=0.25)\n",
    "\n",
    "# Train the model\n",
    "model = SVD()\n",
    "model.fit(trainset)\n",
    "\n",
    "# Save the model\n",
    "with open('../models/recommendation_model.pkl', 'wb') as f:\n",
    "    pickle.dump(model, f)\n",
    "\n",
    "# Evaluate the model\n",
    "predictions = model.test(testset)\n",
    "from surprise import accuracy\n",
    "accuracy.rmse(predictions)\n"
   ]
  }
 ],
 "metadata": {
  "kernelspec": {
   "display_name": "Python 3",
   "language": "python",
   "name": "python3"
  },
  "language_info": {
   "codemirror_mode": {
    "name": "ipython",
    "version": 3
   },
   "file_extension": ".py",
   "mimetype": "text/x-python",
   "name": "python",
   "nbconvert_exporter": "python",
   "pygments_lexer": "ipython3",
   "version": "3.12.1"
  }
 },
 "nbformat": 4,
 "nbformat_minor": 2
}
